{
 "cells": [
  {
   "cell_type": "code",
   "execution_count": 2,
   "metadata": {},
   "outputs": [],
   "source": [
    "import tensorflow as tf"
   ]
  },
  {
   "cell_type": "code",
   "execution_count": 40,
   "metadata": {},
   "outputs": [],
   "source": [
    "def data_generator(x, y):\n",
    "\n",
    "    current_index = 0\n",
    "    length = len(x)\n",
    "\n",
    "    while True:\n",
    "        print(current_index)\n",
    "        if current_index > length:\n",
    "            return\n",
    "        else:\n",
    "            current_index <= length\n",
    "            batch_x = x[current_index:current_index+32]\n",
    "            batch_y = np.expand_dims(y[current_index:current_index+32], -1)\n",
    "            print(batch_x)\n",
    "            max_size = len(batch_x[-1])\n",
    "\n",
    "            padded_x = pad_sequences(batch_x, maxlen = max_size, padding = 'post')\n",
    "            current_index += 32\n",
    "            yield padded_x, batch_y"
   ]
  },
  {
   "cell_type": "code",
   "execution_count": 3,
   "metadata": {},
   "outputs": [],
   "source": [
    "tf.enable_eager_execution()"
   ]
  },
  {
   "cell_type": "code",
   "execution_count": 4,
   "metadata": {},
   "outputs": [],
   "source": [
    "import pickle"
   ]
  },
  {
   "cell_type": "code",
   "execution_count": 5,
   "metadata": {},
   "outputs": [],
   "source": [
    "(train_x, train_y), (test_x, test_y) = pickle.load(open('./data/imdb/imdb.data', 'rb'))"
   ]
  },
  {
   "cell_type": "code",
   "execution_count": 6,
   "metadata": {},
   "outputs": [],
   "source": [
    "gen = data_generator(train_x, train_y)"
   ]
  },
  {
   "cell_type": "code",
   "execution_count": 7,
   "metadata": {},
   "outputs": [],
   "source": [
    "import numpy as np"
   ]
  },
  {
   "cell_type": "code",
   "execution_count": 8,
   "metadata": {},
   "outputs": [],
   "source": [
    "from tensorflow.keras.preprocessing.sequence import pad_sequences"
   ]
  },
  {
   "cell_type": "code",
   "execution_count": 38,
   "metadata": {},
   "outputs": [],
   "source": [
    "gen = data_generator(train_x, train_y)"
   ]
  },
  {
   "cell_type": "code",
   "execution_count": 33,
   "metadata": {},
   "outputs": [
    {
     "name": "stderr",
     "output_type": "stream",
     "text": [
      "IOPub data rate exceeded.\n",
      "The notebook server will temporarily stop sending output\n",
      "to the client in order to avoid crashing it.\n",
      "To change this limit, set the config variable\n",
      "`--NotebookApp.iopub_data_rate_limit`.\n",
      "\n",
      "Current values:\n",
      "NotebookApp.iopub_data_rate_limit=1000000.0 (bytes/sec)\n",
      "NotebookApp.rate_limit_window=3.0 (secs)\n",
      "\n"
     ]
    }
   ],
   "source": [
    "count = 0\n",
    "\n",
    "while count < 780:\n",
    "    next(gen)\n",
    "    count += 1"
   ]
  },
  {
   "cell_type": "code",
   "execution_count": 48,
   "metadata": {},
   "outputs": [
    {
     "name": "stdout",
     "output_type": "stream",
     "text": [
      "96\n",
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n"
     ]
    }
   ],
   "source": [
    "a = next(gen)"
   ]
  },
  {
   "cell_type": "code",
   "execution_count": 49,
   "metadata": {},
   "outputs": [
    {
     "data": {
      "text/plain": [
       "(32, 37)"
      ]
     },
     "execution_count": 49,
     "metadata": {},
     "output_type": "execute_result"
    }
   ],
   "source": [
    "a[0].shape"
   ]
  },
  {
   "cell_type": "code",
   "execution_count": 50,
   "metadata": {},
   "outputs": [],
   "source": [
    "ds = tf.data.Dataset.from_generator(\n",
    "    data_generator, (tf.int64, tf.int64), ((None, None), (None, 1)))\n",
    "\n",
    "#for value in ds.take(10):\n",
    "#    print(value)"
   ]
  },
  {
   "cell_type": "code",
   "execution_count": 52,
   "metadata": {},
   "outputs": [],
   "source": [
    "ds = ds.repeat(5)\n",
    "iterator = ds.make_one_shot_iterator()"
   ]
  },
  {
   "cell_type": "code",
   "execution_count": null,
   "metadata": {},
   "outputs": [],
   "source": [
    "count = 0\n",
    "\n",
    "while count < 780:\n",
    "    iterator\n",
    "    count += 1"
   ]
  },
  {
   "cell_type": "code",
   "execution_count": null,
   "metadata": {},
   "outputs": [],
   "source": [
    "ds.range(5)"
   ]
  },
  {
   "cell_type": "code",
   "execution_count": 90,
   "metadata": {},
   "outputs": [],
   "source": [
    "df_iter = df.make_one_shot_iterator()"
   ]
  },
  {
   "cell_type": "code",
   "execution_count": 88,
   "metadata": {},
   "outputs": [],
   "source": [
    "iterator = ds.range(5).make_one_shot_iterator()"
   ]
  },
  {
   "cell_type": "code",
   "execution_count": 94,
   "metadata": {},
   "outputs": [
    {
     "name": "stdout",
     "output_type": "stream",
     "text": [
      "(<tf.Tensor: id=389, shape=(), dtype=int64, numpy=2>, <tf.Tensor: id=390, shape=(2,), dtype=int64, numpy=array([1, 1])>)\n",
      "(<tf.Tensor: id=393, shape=(), dtype=int64, numpy=3>, <tf.Tensor: id=394, shape=(3,), dtype=int64, numpy=array([1, 1, 1])>)\n",
      "(<tf.Tensor: id=397, shape=(), dtype=int64, numpy=4>, <tf.Tensor: id=398, shape=(4,), dtype=int64, numpy=array([1, 1, 1, 1])>)\n",
      "(<tf.Tensor: id=401, shape=(), dtype=int64, numpy=1>, <tf.Tensor: id=402, shape=(1,), dtype=int64, numpy=array([1])>)\n",
      "(<tf.Tensor: id=405, shape=(), dtype=int64, numpy=2>, <tf.Tensor: id=406, shape=(2,), dtype=int64, numpy=array([1, 1])>)\n",
      "(<tf.Tensor: id=409, shape=(), dtype=int64, numpy=3>, <tf.Tensor: id=410, shape=(3,), dtype=int64, numpy=array([1, 1, 1])>)\n",
      "(<tf.Tensor: id=413, shape=(), dtype=int64, numpy=4>, <tf.Tensor: id=414, shape=(4,), dtype=int64, numpy=array([1, 1, 1, 1])>)\n",
      "(<tf.Tensor: id=417, shape=(), dtype=int64, numpy=1>, <tf.Tensor: id=418, shape=(1,), dtype=int64, numpy=array([1])>)\n",
      "(<tf.Tensor: id=421, shape=(), dtype=int64, numpy=2>, <tf.Tensor: id=422, shape=(2,), dtype=int64, numpy=array([1, 1])>)\n",
      "(<tf.Tensor: id=425, shape=(), dtype=int64, numpy=3>, <tf.Tensor: id=426, shape=(3,), dtype=int64, numpy=array([1, 1, 1])>)\n",
      "(<tf.Tensor: id=429, shape=(), dtype=int64, numpy=4>, <tf.Tensor: id=430, shape=(4,), dtype=int64, numpy=array([1, 1, 1, 1])>)\n",
      "(<tf.Tensor: id=433, shape=(), dtype=int64, numpy=1>, <tf.Tensor: id=434, shape=(1,), dtype=int64, numpy=array([1])>)\n",
      "(<tf.Tensor: id=437, shape=(), dtype=int64, numpy=2>, <tf.Tensor: id=438, shape=(2,), dtype=int64, numpy=array([1, 1])>)\n",
      "(<tf.Tensor: id=441, shape=(), dtype=int64, numpy=3>, <tf.Tensor: id=442, shape=(3,), dtype=int64, numpy=array([1, 1, 1])>)\n",
      "(<tf.Tensor: id=445, shape=(), dtype=int64, numpy=4>, <tf.Tensor: id=446, shape=(4,), dtype=int64, numpy=array([1, 1, 1, 1])>)\n",
      "(<tf.Tensor: id=449, shape=(), dtype=int64, numpy=1>, <tf.Tensor: id=450, shape=(1,), dtype=int64, numpy=array([1])>)\n",
      "(<tf.Tensor: id=453, shape=(), dtype=int64, numpy=2>, <tf.Tensor: id=454, shape=(2,), dtype=int64, numpy=array([1, 1])>)\n",
      "(<tf.Tensor: id=457, shape=(), dtype=int64, numpy=3>, <tf.Tensor: id=458, shape=(3,), dtype=int64, numpy=array([1, 1, 1])>)\n",
      "(<tf.Tensor: id=461, shape=(), dtype=int64, numpy=4>, <tf.Tensor: id=462, shape=(4,), dtype=int64, numpy=array([1, 1, 1, 1])>)\n",
      "(<tf.Tensor: id=465, shape=(), dtype=int64, numpy=1>, <tf.Tensor: id=466, shape=(1,), dtype=int64, numpy=array([1])>)\n",
      "(<tf.Tensor: id=469, shape=(), dtype=int64, numpy=2>, <tf.Tensor: id=470, shape=(2,), dtype=int64, numpy=array([1, 1])>)\n",
      "(<tf.Tensor: id=473, shape=(), dtype=int64, numpy=3>, <tf.Tensor: id=474, shape=(3,), dtype=int64, numpy=array([1, 1, 1])>)\n",
      "(<tf.Tensor: id=477, shape=(), dtype=int64, numpy=4>, <tf.Tensor: id=478, shape=(4,), dtype=int64, numpy=array([1, 1, 1, 1])>)\n",
      "(<tf.Tensor: id=481, shape=(), dtype=int64, numpy=1>, <tf.Tensor: id=482, shape=(1,), dtype=int64, numpy=array([1])>)\n",
      "(<tf.Tensor: id=485, shape=(), dtype=int64, numpy=2>, <tf.Tensor: id=486, shape=(2,), dtype=int64, numpy=array([1, 1])>)\n",
      "(<tf.Tensor: id=489, shape=(), dtype=int64, numpy=3>, <tf.Tensor: id=490, shape=(3,), dtype=int64, numpy=array([1, 1, 1])>)\n",
      "(<tf.Tensor: id=493, shape=(), dtype=int64, numpy=4>, <tf.Tensor: id=494, shape=(4,), dtype=int64, numpy=array([1, 1, 1, 1])>)\n",
      "(<tf.Tensor: id=497, shape=(), dtype=int64, numpy=1>, <tf.Tensor: id=498, shape=(1,), dtype=int64, numpy=array([1])>)\n",
      "(<tf.Tensor: id=501, shape=(), dtype=int64, numpy=2>, <tf.Tensor: id=502, shape=(2,), dtype=int64, numpy=array([1, 1])>)\n",
      "(<tf.Tensor: id=505, shape=(), dtype=int64, numpy=3>, <tf.Tensor: id=506, shape=(3,), dtype=int64, numpy=array([1, 1, 1])>)\n",
      "(<tf.Tensor: id=509, shape=(), dtype=int64, numpy=4>, <tf.Tensor: id=510, shape=(4,), dtype=int64, numpy=array([1, 1, 1, 1])>)\n"
     ]
    },
    {
     "ename": "StopIteration",
     "evalue": "",
     "output_type": "error",
     "traceback": [
      "\u001b[0;31m---------------------------------------------------------------------------\u001b[0m",
      "\u001b[0;31mOutOfRangeError\u001b[0m                           Traceback (most recent call last)",
      "\u001b[0;32m~/anaconda3/envs/tensorflow/lib/python3.6/site-packages/tensorflow/python/data/ops/iterator_ops.py\u001b[0m in \u001b[0;36mnext\u001b[0;34m(self)\u001b[0m\n\u001b[1;32m    573\u001b[0m     \u001b[0;32mtry\u001b[0m\u001b[0;34m:\u001b[0m\u001b[0;34m\u001b[0m\u001b[0;34m\u001b[0m\u001b[0m\n\u001b[0;32m--> 574\u001b[0;31m       \u001b[0;32mreturn\u001b[0m \u001b[0mself\u001b[0m\u001b[0;34m.\u001b[0m\u001b[0m_next_internal\u001b[0m\u001b[0;34m(\u001b[0m\u001b[0;34m)\u001b[0m\u001b[0;34m\u001b[0m\u001b[0;34m\u001b[0m\u001b[0m\n\u001b[0m\u001b[1;32m    575\u001b[0m     \u001b[0;32mexcept\u001b[0m \u001b[0merrors\u001b[0m\u001b[0;34m.\u001b[0m\u001b[0mOutOfRangeError\u001b[0m\u001b[0;34m:\u001b[0m\u001b[0;34m\u001b[0m\u001b[0;34m\u001b[0m\u001b[0m\n",
      "\u001b[0;32m~/anaconda3/envs/tensorflow/lib/python3.6/site-packages/tensorflow/python/data/ops/iterator_ops.py\u001b[0m in \u001b[0;36m_next_internal\u001b[0;34m(self)\u001b[0m\n\u001b[1;32m    563\u001b[0m             \u001b[0moutput_types\u001b[0m\u001b[0;34m=\u001b[0m\u001b[0mself\u001b[0m\u001b[0;34m.\u001b[0m\u001b[0m_flat_output_types\u001b[0m\u001b[0;34m,\u001b[0m\u001b[0;34m\u001b[0m\u001b[0;34m\u001b[0m\u001b[0m\n\u001b[0;32m--> 564\u001b[0;31m             output_shapes=self._flat_output_shapes)\n\u001b[0m\u001b[1;32m    565\u001b[0m \u001b[0;34m\u001b[0m\u001b[0m\n",
      "\u001b[0;32m~/anaconda3/envs/tensorflow/lib/python3.6/site-packages/tensorflow/python/ops/gen_dataset_ops.py\u001b[0m in \u001b[0;36miterator_get_next_sync\u001b[0;34m(iterator, output_types, output_shapes, name)\u001b[0m\n\u001b[1;32m   2265\u001b[0m         \u001b[0mmessage\u001b[0m \u001b[0;34m=\u001b[0m \u001b[0me\u001b[0m\u001b[0;34m.\u001b[0m\u001b[0mmessage\u001b[0m\u001b[0;34m\u001b[0m\u001b[0;34m\u001b[0m\u001b[0m\n\u001b[0;32m-> 2266\u001b[0;31m       \u001b[0m_six\u001b[0m\u001b[0;34m.\u001b[0m\u001b[0mraise_from\u001b[0m\u001b[0;34m(\u001b[0m\u001b[0m_core\u001b[0m\u001b[0;34m.\u001b[0m\u001b[0m_status_to_exception\u001b[0m\u001b[0;34m(\u001b[0m\u001b[0me\u001b[0m\u001b[0;34m.\u001b[0m\u001b[0mcode\u001b[0m\u001b[0;34m,\u001b[0m \u001b[0mmessage\u001b[0m\u001b[0;34m)\u001b[0m\u001b[0;34m,\u001b[0m \u001b[0;32mNone\u001b[0m\u001b[0;34m)\u001b[0m\u001b[0;34m\u001b[0m\u001b[0;34m\u001b[0m\u001b[0m\n\u001b[0m\u001b[1;32m   2267\u001b[0m \u001b[0;34m\u001b[0m\u001b[0m\n",
      "\u001b[0;32m~/anaconda3/envs/tensorflow/lib/python3.6/site-packages/six.py\u001b[0m in \u001b[0;36mraise_from\u001b[0;34m(value, from_value)\u001b[0m\n",
      "\u001b[0;31mOutOfRangeError\u001b[0m: End of sequence [Op:IteratorGetNextSync]",
      "\nDuring handling of the above exception, another exception occurred:\n",
      "\u001b[0;31mStopIteration\u001b[0m                             Traceback (most recent call last)",
      "\u001b[0;32m<ipython-input-94-84ac1786d0d4>\u001b[0m in \u001b[0;36m<module>\u001b[0;34m\u001b[0m\n\u001b[1;32m      1\u001b[0m \u001b[0;32mfor\u001b[0m \u001b[0m_\u001b[0m \u001b[0;32min\u001b[0m \u001b[0mrange\u001b[0m\u001b[0;34m(\u001b[0m\u001b[0;36m40\u001b[0m\u001b[0;34m)\u001b[0m\u001b[0;34m:\u001b[0m\u001b[0;34m\u001b[0m\u001b[0;34m\u001b[0m\u001b[0m\n\u001b[0;32m----> 2\u001b[0;31m     \u001b[0mprint\u001b[0m\u001b[0;34m(\u001b[0m\u001b[0mdf_iter\u001b[0m\u001b[0;34m.\u001b[0m\u001b[0mnext\u001b[0m\u001b[0;34m(\u001b[0m\u001b[0;34m)\u001b[0m\u001b[0;34m)\u001b[0m\u001b[0;34m\u001b[0m\u001b[0;34m\u001b[0m\u001b[0m\n\u001b[0m",
      "\u001b[0;32m~/anaconda3/envs/tensorflow/lib/python3.6/site-packages/tensorflow/python/data/ops/iterator_ops.py\u001b[0m in \u001b[0;36mnext\u001b[0;34m(self)\u001b[0m\n\u001b[1;32m    574\u001b[0m       \u001b[0;32mreturn\u001b[0m \u001b[0mself\u001b[0m\u001b[0;34m.\u001b[0m\u001b[0m_next_internal\u001b[0m\u001b[0;34m(\u001b[0m\u001b[0;34m)\u001b[0m\u001b[0;34m\u001b[0m\u001b[0;34m\u001b[0m\u001b[0m\n\u001b[1;32m    575\u001b[0m     \u001b[0;32mexcept\u001b[0m \u001b[0merrors\u001b[0m\u001b[0;34m.\u001b[0m\u001b[0mOutOfRangeError\u001b[0m\u001b[0;34m:\u001b[0m\u001b[0;34m\u001b[0m\u001b[0;34m\u001b[0m\u001b[0m\n\u001b[0;32m--> 576\u001b[0;31m       \u001b[0;32mraise\u001b[0m \u001b[0mStopIteration\u001b[0m\u001b[0;34m\u001b[0m\u001b[0;34m\u001b[0m\u001b[0m\n\u001b[0m\u001b[1;32m    577\u001b[0m \u001b[0;34m\u001b[0m\u001b[0m\n\u001b[1;32m    578\u001b[0m   \u001b[0;34m@\u001b[0m\u001b[0mproperty\u001b[0m\u001b[0;34m\u001b[0m\u001b[0;34m\u001b[0m\u001b[0m\n",
      "\u001b[0;31mStopIteration\u001b[0m: "
     ]
    }
   ],
   "source": [
    "for _ in range(40):\n",
    "    print(df_iter.next())"
   ]
  },
  {
   "cell_type": "code",
   "execution_count": 89,
   "metadata": {},
   "outputs": [
    {
     "name": "stdout",
     "output_type": "stream",
     "text": [
      "tf.Tensor(0, shape=(), dtype=int64)\n",
      "tf.Tensor(1, shape=(), dtype=int64)\n",
      "tf.Tensor(2, shape=(), dtype=int64)\n",
      "tf.Tensor(3, shape=(), dtype=int64)\n",
      "tf.Tensor(4, shape=(), dtype=int64)\n"
     ]
    },
    {
     "ename": "StopIteration",
     "evalue": "",
     "output_type": "error",
     "traceback": [
      "\u001b[0;31m---------------------------------------------------------------------------\u001b[0m",
      "\u001b[0;31mOutOfRangeError\u001b[0m                           Traceback (most recent call last)",
      "\u001b[0;32m~/anaconda3/envs/tensorflow/lib/python3.6/site-packages/tensorflow/python/data/ops/iterator_ops.py\u001b[0m in \u001b[0;36mnext\u001b[0;34m(self)\u001b[0m\n\u001b[1;32m    573\u001b[0m     \u001b[0;32mtry\u001b[0m\u001b[0;34m:\u001b[0m\u001b[0;34m\u001b[0m\u001b[0;34m\u001b[0m\u001b[0m\n\u001b[0;32m--> 574\u001b[0;31m       \u001b[0;32mreturn\u001b[0m \u001b[0mself\u001b[0m\u001b[0;34m.\u001b[0m\u001b[0m_next_internal\u001b[0m\u001b[0;34m(\u001b[0m\u001b[0;34m)\u001b[0m\u001b[0;34m\u001b[0m\u001b[0;34m\u001b[0m\u001b[0m\n\u001b[0m\u001b[1;32m    575\u001b[0m     \u001b[0;32mexcept\u001b[0m \u001b[0merrors\u001b[0m\u001b[0;34m.\u001b[0m\u001b[0mOutOfRangeError\u001b[0m\u001b[0;34m:\u001b[0m\u001b[0;34m\u001b[0m\u001b[0;34m\u001b[0m\u001b[0m\n",
      "\u001b[0;32m~/anaconda3/envs/tensorflow/lib/python3.6/site-packages/tensorflow/python/data/ops/iterator_ops.py\u001b[0m in \u001b[0;36m_next_internal\u001b[0;34m(self)\u001b[0m\n\u001b[1;32m    563\u001b[0m             \u001b[0moutput_types\u001b[0m\u001b[0;34m=\u001b[0m\u001b[0mself\u001b[0m\u001b[0;34m.\u001b[0m\u001b[0m_flat_output_types\u001b[0m\u001b[0;34m,\u001b[0m\u001b[0;34m\u001b[0m\u001b[0;34m\u001b[0m\u001b[0m\n\u001b[0;32m--> 564\u001b[0;31m             output_shapes=self._flat_output_shapes)\n\u001b[0m\u001b[1;32m    565\u001b[0m \u001b[0;34m\u001b[0m\u001b[0m\n",
      "\u001b[0;32m~/anaconda3/envs/tensorflow/lib/python3.6/site-packages/tensorflow/python/ops/gen_dataset_ops.py\u001b[0m in \u001b[0;36miterator_get_next_sync\u001b[0;34m(iterator, output_types, output_shapes, name)\u001b[0m\n\u001b[1;32m   2265\u001b[0m         \u001b[0mmessage\u001b[0m \u001b[0;34m=\u001b[0m \u001b[0me\u001b[0m\u001b[0;34m.\u001b[0m\u001b[0mmessage\u001b[0m\u001b[0;34m\u001b[0m\u001b[0;34m\u001b[0m\u001b[0m\n\u001b[0;32m-> 2266\u001b[0;31m       \u001b[0m_six\u001b[0m\u001b[0;34m.\u001b[0m\u001b[0mraise_from\u001b[0m\u001b[0;34m(\u001b[0m\u001b[0m_core\u001b[0m\u001b[0;34m.\u001b[0m\u001b[0m_status_to_exception\u001b[0m\u001b[0;34m(\u001b[0m\u001b[0me\u001b[0m\u001b[0;34m.\u001b[0m\u001b[0mcode\u001b[0m\u001b[0;34m,\u001b[0m \u001b[0mmessage\u001b[0m\u001b[0;34m)\u001b[0m\u001b[0;34m,\u001b[0m \u001b[0;32mNone\u001b[0m\u001b[0;34m)\u001b[0m\u001b[0;34m\u001b[0m\u001b[0;34m\u001b[0m\u001b[0m\n\u001b[0m\u001b[1;32m   2267\u001b[0m \u001b[0;34m\u001b[0m\u001b[0m\n",
      "\u001b[0;32m~/anaconda3/envs/tensorflow/lib/python3.6/site-packages/six.py\u001b[0m in \u001b[0;36mraise_from\u001b[0;34m(value, from_value)\u001b[0m\n",
      "\u001b[0;31mOutOfRangeError\u001b[0m: End of sequence [Op:IteratorGetNextSync]",
      "\nDuring handling of the above exception, another exception occurred:\n",
      "\u001b[0;31mStopIteration\u001b[0m                             Traceback (most recent call last)",
      "\u001b[0;32m<ipython-input-89-8c56ab8531e8>\u001b[0m in \u001b[0;36m<module>\u001b[0;34m\u001b[0m\n\u001b[1;32m      1\u001b[0m \u001b[0;32mfor\u001b[0m \u001b[0m_\u001b[0m \u001b[0;32min\u001b[0m \u001b[0mrange\u001b[0m\u001b[0;34m(\u001b[0m\u001b[0;36m9\u001b[0m\u001b[0;34m)\u001b[0m\u001b[0;34m:\u001b[0m\u001b[0;34m\u001b[0m\u001b[0;34m\u001b[0m\u001b[0m\n\u001b[0;32m----> 2\u001b[0;31m     \u001b[0mprint\u001b[0m\u001b[0;34m(\u001b[0m\u001b[0miterator\u001b[0m\u001b[0;34m.\u001b[0m\u001b[0mnext\u001b[0m\u001b[0;34m(\u001b[0m\u001b[0;34m)\u001b[0m\u001b[0;34m)\u001b[0m\u001b[0;34m\u001b[0m\u001b[0;34m\u001b[0m\u001b[0m\n\u001b[0m",
      "\u001b[0;32m~/anaconda3/envs/tensorflow/lib/python3.6/site-packages/tensorflow/python/data/ops/iterator_ops.py\u001b[0m in \u001b[0;36mnext\u001b[0;34m(self)\u001b[0m\n\u001b[1;32m    574\u001b[0m       \u001b[0;32mreturn\u001b[0m \u001b[0mself\u001b[0m\u001b[0;34m.\u001b[0m\u001b[0m_next_internal\u001b[0m\u001b[0;34m(\u001b[0m\u001b[0;34m)\u001b[0m\u001b[0;34m\u001b[0m\u001b[0;34m\u001b[0m\u001b[0m\n\u001b[1;32m    575\u001b[0m     \u001b[0;32mexcept\u001b[0m \u001b[0merrors\u001b[0m\u001b[0;34m.\u001b[0m\u001b[0mOutOfRangeError\u001b[0m\u001b[0;34m:\u001b[0m\u001b[0;34m\u001b[0m\u001b[0;34m\u001b[0m\u001b[0m\n\u001b[0;32m--> 576\u001b[0;31m       \u001b[0;32mraise\u001b[0m \u001b[0mStopIteration\u001b[0m\u001b[0;34m\u001b[0m\u001b[0;34m\u001b[0m\u001b[0m\n\u001b[0m\u001b[1;32m    577\u001b[0m \u001b[0;34m\u001b[0m\u001b[0m\n\u001b[1;32m    578\u001b[0m   \u001b[0;34m@\u001b[0m\u001b[0mproperty\u001b[0m\u001b[0;34m\u001b[0m\u001b[0;34m\u001b[0m\u001b[0m\n",
      "\u001b[0;31mStopIteration\u001b[0m: "
     ]
    }
   ],
   "source": [
    "for _ in range(9):\n",
    "    print(iterator.next())"
   ]
  },
  {
   "cell_type": "code",
   "execution_count": null,
   "metadata": {},
   "outputs": [],
   "source": []
  }
 ],
 "metadata": {
  "kernelspec": {
   "display_name": "Python 3",
   "language": "python",
   "name": "python3"
  },
  "language_info": {
   "codemirror_mode": {
    "name": "ipython",
    "version": 3
   },
   "file_extension": ".py",
   "mimetype": "text/x-python",
   "name": "python",
   "nbconvert_exporter": "python",
   "pygments_lexer": "ipython3",
   "version": "3.6.8"
  }
 },
 "nbformat": 4,
 "nbformat_minor": 2
}
